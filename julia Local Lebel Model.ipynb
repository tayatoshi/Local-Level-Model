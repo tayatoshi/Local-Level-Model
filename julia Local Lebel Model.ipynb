{
 "cells": [
  {
   "cell_type": "code",
   "execution_count": null,
   "metadata": {
    "collapsed": false,
    "deletable": true,
    "editable": true
   },
   "outputs": [],
   "source": [
    "using Distributions\n",
    "using Gadfly"
   ]
  },
  {
   "cell_type": "code",
   "execution_count": null,
   "metadata": {
    "collapsed": false,
    "deletable": true,
    "editable": true
   },
   "outputs": [],
   "source": [
    "α = Vector{Float64}(50)\n",
    "η = Normal(0,5)\n",
    "ɛ = Normal(0,5)\n",
    "α[1] = exp(2)+80.0\n",
    "for i in 2:50\n",
    "    α[i] = α[i-1] + rand(η)\n",
    "end\n",
    "y = α .+ rand(ɛ, length(α))\n",
    "\n",
    "plot(\n",
    "    layer(y=y,Geom.line,Geom.point),\n",
    "    layer(y=α,Geom.line,Theme(default_color=color(\"red\"))),\n",
    "    Guide.manual_color_key(\"Legend\", [\"観測値\", \"状態\"],\n",
    "                           [color(\"deepskyblue\"), color(\"red\")])\n",
    "    )"
   ]
  },
  {
   "cell_type": "code",
   "execution_count": null,
   "metadata": {
    "collapsed": false,
    "deletable": true,
    "editable": true
   },
   "outputs": [],
   "source": [
    "function kalmanfilter(a0::Float64, p0::Float64, Var_ɛ::Float64, Var_η::Float64)\n",
    "    #a0:一期先状態予測(Float64)\n",
    "    #p0:一期先状態分散(Float64)\n",
    "    a = a0\n",
    "    p = p0\n",
    "    A_t = Vector{Float64}(50)\n",
    "    P_t = Vector{Float64}(50)\n",
    "    for i in 1:length(y)\n",
    "        υ = y[i] - a\n",
    "        f = p + Var_ɛ\n",
    "        K = p/f\n",
    "        L = 1 - K\n",
    "        a_t = a + K*υ\n",
    "        A_t[i] = a_t\n",
    "        p_t = p*L\n",
    "        P_t[i] = p_t\n",
    "        a = A_t[i]\n",
    "        p = P_t[i] + Var_η\n",
    "    end\n",
    "    plot(\n",
    "    layer(y=y,Geom.line),\n",
    "    layer(y=α,Geom.line,Theme(default_color=color(\"red\"))),\n",
    "    layer(y=A_t,Geom.line,Theme(default_color=color(\"green\"))),\n",
    "    Guide.manual_color_key(\"Legend\", [\"観測値\", \"真の状態\",\"フィルタ化推定量\"],\n",
    "    [color(\"deepskyblue\"), color(\"red\"),color(\"green\")])\n",
    "    )\n",
    "end"
   ]
  },
  {
   "cell_type": "code",
   "execution_count": null,
   "metadata": {
    "collapsed": false,
    "deletable": true,
    "editable": true
   },
   "outputs": [],
   "source": [
    "kalmanfilter(mean(α),5000.0,5.0,5.0)"
   ]
  }
 ],
 "metadata": {
  "anaconda-cloud": {},
  "kernelspec": {
   "display_name": "Julia 0.5.0",
   "language": "julia",
   "name": "julia-0.5"
  },
  "language_info": {
   "file_extension": ".jl",
   "mimetype": "application/julia",
   "name": "julia",
   "version": "0.5.0"
  }
 },
 "nbformat": 4,
 "nbformat_minor": 1
}
