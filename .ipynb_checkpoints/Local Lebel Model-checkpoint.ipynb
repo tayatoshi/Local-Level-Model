{
 "cells": [
  {
   "cell_type": "code",
   "execution_count": null,
   "metadata": {
    "collapsed": true
   },
   "outputs": [],
   "source": [
    "import numpy as np\n",
    "import matplotlib.pyplot as plt\n",
    "plt.style.use('ggplot')\n",
    "import pandas as pd"
   ]
  },
  {
   "cell_type": "code",
   "execution_count": null,
   "metadata": {
    "collapsed": false
   },
   "outputs": [],
   "source": [
    "alpha=[]\n",
    "alpha.append(np.exp(2)+80)\n",
    "for i in range(50):\n",
    "    alpha.append(alpha[i]+np.random.normal(0,50))\n",
    "y=alpha+np.random.normal(0,50,len(alpha))\n",
    "\n",
    "plt.plot(y,label=\"observation\")\n",
    "plt.plot(alpha,label=\"state\")\n",
    "plt.legend()\n",
    "plt.ylim(min(y)-5,max(y)+5)\n",
    "plt.show()"
   ]
  },
  {
   "cell_type": "code",
   "execution_count": null,
   "metadata": {
    "collapsed": false
   },
   "outputs": [],
   "source": [
    "def kalman(a0=np.mean(alpha),p0=5000,Var_epsilon=50,Var_eta=50):\n",
    "    a = a0\n",
    "    p = p0\n",
    "    A = []\n",
    "    A_t = []\n",
    "    P_t = []\n",
    "    for i in range(50):\n",
    "        u = y[i] - a\n",
    "        f = p + Var_epsilon\n",
    "        K = p/f\n",
    "        L = 1-K\n",
    "        a_t = a + K*u\n",
    "        A_t.append(a_t)\n",
    "        p_t = p*L\n",
    "        P_t.append(p_t)\n",
    "        A.append(a)\n",
    "        a = A_t[i]\n",
    "        p = P_t[i] + Var_eta\n",
    "        \n",
    "    A_t=pd.DataFrame(A_t)\n",
    "    A_t.index=A_t.index+1\n",
    "    plt.plot(y,'-o',label='y')\n",
    "    plt.plot(alpha,label=\"state\")\n",
    "    #plt.plot(A,label=\"one step\")\n",
    "    plt.plot(A_t,label=\"filtering state\")\n",
    "    #plt.plot(A_t-1.96*np.sqrt(P_t))\n",
    "    #plt.plot(A_t+1.96*np.sqrt(P_t))\n",
    "    #plt.legend()\n",
    "    plt.ylim(min(y)-50,max(y)+50)\n",
    "    plt.show()"
   ]
  },
  {
   "cell_type": "code",
   "execution_count": null,
   "metadata": {
    "collapsed": false
   },
   "outputs": [],
   "source": [
    "kalman()"
   ]
  }
 ],
 "metadata": {
  "anaconda-cloud": {},
  "kernelspec": {
   "display_name": "Python [conda root]",
   "language": "python",
   "name": "conda-root-py"
  },
  "language_info": {
   "codemirror_mode": {
    "name": "ipython",
    "version": 3
   },
   "file_extension": ".py",
   "mimetype": "text/x-python",
   "name": "python",
   "nbconvert_exporter": "python",
   "pygments_lexer": "ipython3",
   "version": "3.5.2"
  }
 },
 "nbformat": 4,
 "nbformat_minor": 1
}
